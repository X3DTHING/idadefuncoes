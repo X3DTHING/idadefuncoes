{
  "nbformat": 4,
  "nbformat_minor": 0,
  "metadata": {
    "colab": {
      "provenance": [],
      "authorship_tag": "ABX9TyPNAdLomqkJ7L9NN2nbSKib",
      "include_colab_link": true
    },
    "kernelspec": {
      "name": "python3",
      "display_name": "Python 3"
    },
    "language_info": {
      "name": "python"
    }
  },
  "cells": [
    {
      "cell_type": "markdown",
      "metadata": {
        "id": "view-in-github",
        "colab_type": "text"
      },
      "source": [
        "<a href=\"https://colab.research.google.com/github/X3DTHING/idadefuncoes/blob/main/idadefuncoes.ipynb\" target=\"_parent\"><img src=\"https://colab.research.google.com/assets/colab-badge.svg\" alt=\"Open In Colab\"/></a>"
      ]
    },
    {
      "cell_type": "code",
      "execution_count": 1,
      "metadata": {
        "colab": {
          "base_uri": "https://localhost:8080/"
        },
        "id": "KZzxufxvsJg5",
        "outputId": "ae6b7e13-a553-441d-f031-f9ee6e8afa08"
      },
      "outputs": [
        {
          "output_type": "stream",
          "name": "stdout",
          "text": [
            "Digite uma idade: 40\n",
            "40\n",
            "Caso queira encerrar o programa, digite 'sair': 20\n",
            "Digite uma idade: 18\n",
            "18\n",
            "Caso queira encerrar o programa, digite 'sair': 18\n",
            "Digite uma idade: 12\n",
            "12\n",
            "Caso queira encerrar o programa, digite 'sair': sair\n",
            "Maiores de 18 anos: [40]\n",
            "Menores ou iguais a 18 anos: [18]\n"
          ]
        }
      ],
      "source": [
        "maior_idade = []\n",
        "menor_idade = []\n",
        "\n",
        "def desf_idade(idade):\n",
        "    if idade > 18:\n",
        "        maior_idade.append(idade)\n",
        "    elif idade <= 18:\n",
        "        menor_idade.append(idade)\n",
        "\n",
        "while True:\n",
        "    idade = int(input(\"Digite uma idade: \"))\n",
        "    print(idade)\n",
        "    verificar = input(\"Caso queira encerrar o programa, digite 'sair': \")\n",
        "    if verificar == \"sair\":\n",
        "        break\n",
        "    else:\n",
        "        desf_idade(idade)\n",
        "        continue\n",
        "\n",
        "print(\"Maiores de 18 anos:\", maior_idade)\n",
        "print(\"Menores ou iguais a 18 anos:\", menor_idade)\n"
      ]
    }
  ]
}